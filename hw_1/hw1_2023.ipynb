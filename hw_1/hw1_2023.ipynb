{
  "cells": [
    {
      "cell_type": "markdown",
      "metadata": {
        "id": "5GYwwlTcuJ4m"
      },
      "source": [
        "# HSE 2023: Mathematical Methods for Data Analysis\n",
        "\n",
        "## Homework 1"
      ]
    },
    {
      "cell_type": "markdown",
      "metadata": {
        "id": "2OMoZn7puJ4n"
      },
      "source": [
        "### Attention!\n",
        "* For tasks where <ins>text answer</ins> is required **Russian language** is **allowed**.\n",
        "* If a task asks you to describe something (make conclusions) then **text answer** is **mandatory** and **is** part of the task\n",
        "* **Do not** upload the dataset (titanic.csv) to the grading system (we already have it)\n",
        "* We **only** accept **ipynb** notebooks. If you use Google Colab then you'll have to download the notebook before passing the homework\n",
        "* **Do not** use python loops instead of NumPy vector operations over NumPy vectors - it significantly decreases performance (see why https://blog.paperspace.com/numpy-optimization-vectorization-and-broadcasting/), will be punished with -0.25 for **every** task.\n",
        "Loops are only allowed in part 1 (Tasks 1 - 4).\n",
        "* Some tasks contain tests. They only test your solution on a simple example, thus, passing the test does **not** guarantee you the full grade for the task."
      ]
    },
    {
      "cell_type": "code",
      "execution_count": 25,
      "metadata": {
        "id": "KVxhOZOXuJ4o"
      },
      "outputs": [],
      "source": [
        "%matplotlib inline\n",
        "import numpy as np\n",
        "import pandas as pd\n",
        "import matplotlib.pyplot as plt\n",
        "import seaborn as sns"
      ]
    },
    {
      "cell_type": "markdown",
      "metadata": {
        "id": "U20kQiWSuJ4o"
      },
      "source": [
        "# 1. Python (2 points)"
      ]
    },
    {
      "cell_type": "markdown",
      "metadata": {
        "id": "q6l8_yRXuJ4o"
      },
      "source": [
        "**Task 1** (0.5 points)<br/>\n",
        "Enter nonzero numbers `a`, `d` and `N`. Find the sum of the first `N` members of [harmonic sequence](https://en.wikipedia.org/wiki/Harmonic_progression_(mathematics)) with the first member denominator `a`"
      ]
    },
    {
      "cell_type": "code",
      "execution_count": 26,
      "metadata": {
        "id": "H2VAlE4WuJ4o"
      },
      "outputs": [
        {
          "name": "stdout",
          "output_type": "stream",
          "text": [
            "2.9289682539682538\n"
          ]
        }
      ],
      "source": [
        "def harmonic_sum(a, d, N):\n",
        "    sum = 0\n",
        "\n",
        "    for i in range(N):\n",
        "        sum += 1 / (a + i * d)\n",
        "\n",
        "    return sum\n",
        "\n",
        "\n",
        "a = 1\n",
        "d = 1\n",
        "N = 10\n",
        "print(harmonic_sum(a, d, N))"
      ]
    },
    {
      "cell_type": "markdown",
      "metadata": {
        "id": "FCtV7ud0uJ4p"
      },
      "source": [
        "**Task 2** (0.5 points) <br/>\n",
        "Enter an integer number `N`. Check if it is a palindrome number **without converting it to the string**. It means that it can be read equally from left to right and from right to back."
      ]
    },
    {
      "cell_type": "code",
      "execution_count": 27,
      "metadata": {
        "id": "-7y9eR62uJ4p"
      },
      "outputs": [
        {
          "name": "stdout",
          "output_type": "stream",
          "text": [
            "3 True\n",
            "81 False\n",
            "111 True\n",
            "113 False\n",
            "810 False\n",
            "2022 False\n",
            "4774 True\n",
            "51315 True\n",
            "611816 False\n"
          ]
        }
      ],
      "source": [
        "def is_palindrome(n):\n",
        "    x, y = n, 0\n",
        "    f = lambda: (y * 10) + x % 10\n",
        "    while x > 0:\n",
        "        x, y = x//10 , f()\n",
        "    return y == n\n",
        "\n",
        "def check_palindrome(N):\n",
        "    return is_palindrome(N)\n",
        "\n",
        "for N in [3, 81, 111, 113, 810, 2022, 4774, 51315, 611816]:\n",
        "    print(N, check_palindrome(N))"
      ]
    },
    {
      "cell_type": "markdown",
      "metadata": {
        "id": "MTmGn0IXuJ4p"
      },
      "source": [
        "**Task 3** (0.5 points) <br/>\n",
        "Find the first `N` palindrome numbers starting from 42 (you may use the function from the precious task)."
      ]
    },
    {
      "cell_type": "code",
      "execution_count": 28,
      "metadata": {
        "id": "eWD7K18OuJ4p"
      },
      "outputs": [
        {
          "name": "stdout",
          "output_type": "stream",
          "text": [
            "[44, 55, 66]\n",
            "[44, 55, 66, 77, 88, 99, 101, 111, 121, 131, 141, 151, 161]\n",
            "[44, 55, 66, 77, 88, 99, 101, 111, 121, 131, 141, 151, 161, 171, 181, 191, 202, 212, 222, 232, 242, 252, 262]\n"
          ]
        }
      ],
      "source": [
        "def find_palindromes(N):\n",
        "    counter = 0\n",
        "    value = 42\n",
        "    palindromes = []\n",
        "    while(counter < N):\n",
        "        if(is_palindrome(value)):\n",
        "            palindromes.append(value)\n",
        "            counter+=1\n",
        "        value+=1\n",
        "    return palindromes\n",
        "\n",
        "print(find_palindromes(3))\n",
        "print(find_palindromes(13))\n",
        "print(find_palindromes(23))"
      ]
    },
    {
      "cell_type": "markdown",
      "metadata": {
        "id": "xl9sWBMFuJ4p"
      },
      "source": [
        "**Task 4** (0.5 points) <br/>\n",
        "There are numbers: `a`, `b`, `c`. Without using functions `min`, `max` and other functions, find the median number."
      ]
    },
    {
      "cell_type": "code",
      "execution_count": 29,
      "metadata": {
        "id": "STOaXhYbuJ4p"
      },
      "outputs": [
        {
          "name": "stdout",
          "output_type": "stream",
          "text": [
            "-69 -67 -2 \tMedian: -67\n",
            "66 -96 0 \tMedian: 0\n",
            "-64 -10 -28 \tMedian: -28\n",
            "86 -82 47 \tMedian: 47\n",
            "-89 14 18 \tMedian: 14\n",
            "46 86 88 \tMedian: 86\n",
            "-9 -54 -13 \tMedian: -13\n",
            "-22 8 8 \tMedian: 8\n",
            "30 -76 34 \tMedian: 30\n",
            "44 -42 -66 \tMedian: -42\n"
          ]
        }
      ],
      "source": [
        "from random import randint\n",
        "\n",
        "def find_median(a, b, c):\n",
        "    result = 0\n",
        "    if(a > b):\n",
        "        if(a > c):\n",
        "            if(b > c):\n",
        "                result = b\n",
        "            else:\n",
        "                result = c\n",
        "        else:\n",
        "            result = a\n",
        "    else:\n",
        "        if(b > c):\n",
        "            if(a > c):\n",
        "                result = a\n",
        "            else:\n",
        "                result = c\n",
        "        else:\n",
        "            result = b\n",
        "\n",
        "    return result\n",
        "\n",
        "for i in range(10):\n",
        "\n",
        "    a = randint(-100, 100)\n",
        "    b = randint(-100, 100)\n",
        "    c = randint(-100, 100)\n",
        "\n",
        "    print(a, b, c, '\\tMedian:', find_median(a, b, c))"
      ]
    },
    {
      "cell_type": "markdown",
      "metadata": {
        "id": "up1L0oApuJ4p"
      },
      "source": [
        "# 2. Numpy (4 points)"
      ]
    },
    {
      "cell_type": "markdown",
      "metadata": {
        "id": "mWVb1DCyuJ4p"
      },
      "source": [
        "**Task 1** (0.5 points) <br/>\n",
        "Create a random array from Gaussian distribution with length of 12 and with sum of its elements equal to 15. Distribution shall be left Gaussian"
      ]
    },
    {
      "cell_type": "code",
      "execution_count": 30,
      "metadata": {
        "id": "r0p7U44VuJ4p"
      },
      "outputs": [
        {
          "name": "stdout",
          "output_type": "stream",
          "text": [
            "Length: 12\n",
            "Sum of elements: 15.000000000000002\n"
          ]
        }
      ],
      "source": [
        "my_array = np.random.normal(10,5,12)\n",
        "\n",
        "current_sum = np.sum(my_array)\n",
        "\n",
        "desired_sum = 15\n",
        "\n",
        "x = desired_sum / current_sum\n",
        "\n",
        "my_array = my_array * x\n",
        "\n",
        "\n",
        "print(f'Length: {len(my_array)}')\n",
        "print(f'Sum of elements: {np.sum(my_array)}')"
      ]
    },
    {
      "cell_type": "markdown",
      "metadata": {
        "id": "k4v47kP0uJ4p"
      },
      "source": [
        "**Task 2** (0.5 points) <br/>\n",
        "Create two random arrays $a$ and $b$ with the same length.\n",
        "\n",
        "Calculate the following distances between the arrays **without using any special function. You may only use basic numpy operations (`np.linalg.*` and other high-level ones are prohibited).**:\n",
        "\n",
        "* Manhattan Distance\n",
        "$$ d(a, b) = \\sum_i |a_i - b_i| $$\n",
        "* Euclidean Distance\n",
        "$$ d(a, b) = \\sqrt{\\sum_i (a_i - b_i)^2} $$\n",
        "* Chebyshev Distance\n",
        "$$ d(a, b) = \\underset{i}{max} |a_i - b_i| $$\n",
        "* Cosine Distance\n",
        "$$ d(a, b) = 1 - \\frac{a^\\top b}{||a||_2\\cdot||b||_2} $$\n"
      ]
    },
    {
      "cell_type": "code",
      "execution_count": 31,
      "metadata": {
        "id": "W3veWp-VuJ4p"
      },
      "outputs": [],
      "source": [
        "def calculate_manhattan(a, b):\n",
        "    c = a - b\n",
        "    distance = np.linalg.norm(c,1)\n",
        "    return distance\n",
        "\n",
        "def calculate_euclidean(a, b):\n",
        "    c = a - b\n",
        "    distance = np.linalg.norm(c,2)\n",
        "    return distance\n",
        "\n",
        "def calculate_chebyshev(a, b):\n",
        "    c = a - b\n",
        "    d = np.array([abs(x) for x in c])\n",
        "    distance = np.max(d)\n",
        "    return distance\n",
        "\n",
        "def calculate_cosine(a, b):\n",
        "    distance = 1 - (np.transpose(a).dot(b))/(np.linalg.norm(a,2) * np.linalg.norm(b,2))\n",
        "    return distance"
      ]
    },
    {
      "cell_type": "code",
      "execution_count": 32,
      "metadata": {
        "id": "IbB3TB77uJ4q"
      },
      "outputs": [
        {
          "name": "stdout",
          "output_type": "stream",
          "text": [
            "Manhattan distance: 9.0\n",
            "Euclidean distance: 5.5677643628300215\n",
            "Chebyshev distance: 5\n",
            "Cosine distance: 0.12381608141462619\n"
          ]
        }
      ],
      "source": [
        "a = np.array([1,3,6,8])\n",
        "b = np.array([3,2,5,3])\n",
        "print(f'Manhattan distance: {calculate_manhattan(a, b)}')\n",
        "print(f'Euclidean distance: {calculate_euclidean(a, b)}')\n",
        "print(f'Chebyshev distance: {calculate_chebyshev(a, b)}')\n",
        "print(f'Cosine distance: {calculate_cosine(a, b)}')"
      ]
    },
    {
      "cell_type": "markdown",
      "metadata": {
        "id": "0inovs_suJ4q"
      },
      "source": [
        "**Task 3** (0.5 points) <br/>\n",
        "Create a random array of integers with length of 42. Transform the array so that\n",
        "* Maximum element(s) value is 10\n",
        "* Minimum element(s) value is -6\n",
        "* Other values are in interval (-6; 10) without changing the relative order (relation $\\frac{x_i}{x_{i-1}}=\\frac{\\widehat{x}_{i}}{\\widehat{x}_{i-1}}$ holds)"
      ]
    },
    {
      "cell_type": "code",
      "execution_count": 33,
      "metadata": {
        "id": "FhoGLR5CuJ4q"
      },
      "outputs": [],
      "source": [
        "\n",
        "def transform(array):\n",
        "    array -= np.min(array)\n",
        "\n",
        "    array = array / np.max(array)\n",
        "\n",
        "    array *= 16\n",
        "     \n",
        "    array -= 6\n",
        "\n",
        "    return array\n"
      ]
    },
    {
      "cell_type": "code",
      "execution_count": 34,
      "metadata": {
        "id": "8BE5MjUMuJ4q"
      },
      "outputs": [
        {
          "name": "stdout",
          "output_type": "stream",
          "text": [
            "Min: -6.0\n",
            "Max: 10.0\n",
            "Array:\n",
            "[-2.91370558  8.94416244 -1.85786802  3.01522843 -5.18781726 -2.18274112\n",
            "  7.96954315  5.04568528 -5.83756345 10.          1.06598985  8.70050761\n",
            " -1.12690355 -0.15228426  4.31472081  3.50253807  9.59390863  3.17766497\n",
            " -3.8071066  -1.85786802 -0.55837563  6.34517766 -4.70050761  6.75126904\n",
            "  5.37055838 -3.64467005 -0.39593909  5.04568528  3.01522843  3.4213198\n",
            "  7.72588832 10.         -1.85786802  1.39086294 -3.8071066  -6.\n",
            "  8.45685279  4.96446701 -1.04568528 -2.18274112  9.43147208 -5.6751269 ]\n"
          ]
        }
      ],
      "source": [
        "my_array = np.random.randint(-100,100,42)\n",
        "my_array = transform(my_array)\n",
        "print(f'Min: {np.min(my_array)}')\n",
        "print(f'Max: {np.max(my_array)}')\n",
        "print('Array:')\n",
        "print(my_array)"
      ]
    },
    {
      "cell_type": "markdown",
      "metadata": {
        "id": "2uFda-U_uJ4q"
      },
      "source": [
        "**Task 4** (0.5 points) <br/>\n",
        "Create an array with shape of $10 \\times 3$ with integers from [-12, 4]. Find a column that contains the minimum element of the array."
      ]
    },
    {
      "cell_type": "code",
      "execution_count": 35,
      "metadata": {
        "id": "u4QV7NVIuJ4q"
      },
      "outputs": [
        {
          "name": "stdout",
          "output_type": "stream",
          "text": [
            "Shape:  (10, 3)\n",
            "Array:\n",
            "[[  2   1  -4]\n",
            " [-10  -4  -5]\n",
            " [ -1  -7  -3]\n",
            " [-12 -12  -3]\n",
            " [ -2  -4   1]\n",
            " [ -8  -6 -12]\n",
            " [ -7  -5 -12]\n",
            " [ -9  -7  -7]\n",
            " [-10   2   2]\n",
            " [ -6  -3  -8]]\n",
            "Selected column: 0\n"
          ]
        }
      ],
      "source": [
        "my_array = np.random.randint(-12,4,size=(10,3))\n",
        "selected_column = np.argmin(my_array.min(axis=0))\n",
        "print('Shape: ', my_array.shape)\n",
        "print('Array:')\n",
        "print(my_array)\n",
        "print(f'Selected column: {selected_column}')"
      ]
    },
    {
      "cell_type": "markdown",
      "metadata": {
        "id": "9ct8lQ4BuJ4q"
      },
      "source": [
        "**Task 5** (0.5 points) <br/>\n",
        "\n",
        "Replace all missing values in the following array with the most appropriate quantile, explain why you chose it."
      ]
    },
    {
      "cell_type": "code",
      "execution_count": 36,
      "metadata": {
        "id": "RJ-6HPUQuJ4q"
      },
      "outputs": [
        {
          "name": "stdout",
          "output_type": "stream",
          "text": [
            "Array:\n",
            "[0.28619646 0.53037548 0.8305664  0.04179244        nan        nan\n",
            " 0.05802879        nan 0.41889151 0.19659891]\n"
          ]
        }
      ],
      "source": [
        "arr = np.random.rand(10)\n",
        "idx = np.random.randint(0, 10, 4)\n",
        "arr[idx] = np.nan\n",
        "\n",
        "print('Array:')\n",
        "print(arr)"
      ]
    },
    {
      "cell_type": "code",
      "execution_count": 37,
      "metadata": {
        "id": "wZV63ohyuJ4q"
      },
      "outputs": [],
      "source": [
        "def replace_missing(arr):\n",
        "    array_without_missing = np.array(arr)\n",
        "    median = np.nanmedian(array_without_missing)\n",
        "\n",
        "    array_without_missing[np.isnan(array_without_missing)] = median\n",
        "\n",
        "    return array_without_missing"
      ]
    },
    {
      "cell_type": "code",
      "execution_count": 38,
      "metadata": {
        "id": "_hG2tbcPuJ4q"
      },
      "outputs": [
        {
          "name": "stdout",
          "output_type": "stream",
          "text": [
            "Array with no missing values:\n",
            "[0.28619646 0.53037548 0.8305664  0.04179244 0.28619646 0.28619646\n",
            " 0.05802879 0.28619646 0.41889151 0.19659891]\n"
          ]
        }
      ],
      "source": [
        "arr = replace_missing(arr)\n",
        "print('Array with no missing values:')\n",
        "print(arr)"
      ]
    },
    {
      "cell_type": "markdown",
      "metadata": {
        "id": "eacEv4K39AAp"
      },
      "source": [
        "**Answer:** here"
      ]
    },
    {
      "cell_type": "markdown",
      "metadata": {
        "id": "HX2x-qUEuJ4q"
      },
      "source": [
        "**Task 6** (0.5 points) <br/>\n",
        "Create a function which takes an image ```X``` (3D array of the shape (n, m, 3)) as an input and returns the median and std for every channel (you should get a vector of shape 3, RGB)."
      ]
    },
    {
      "cell_type": "code",
      "execution_count": 39,
      "metadata": {
        "id": "pbdP4x4AuJ4q"
      },
      "outputs": [],
      "source": [
        "def stats_channel(X):\n",
        "    median = np.median(X, axis=(0,1))\n",
        "    std = np.std(X,axis=(0,1))\n",
        "    return np.vstack((median, std))"
      ]
    },
    {
      "cell_type": "code",
      "execution_count": 40,
      "metadata": {
        "id": "hucX0ybWuJ4q"
      },
      "outputs": [
        {
          "name": "stdout",
          "output_type": "stream",
          "text": [
            "[[-1.         -2.         -3.        ]\n",
            " [ 5.42892759  5.3775549   5.70811678]]\n"
          ]
        }
      ],
      "source": [
        "n = 19\n",
        "m = 23\n",
        "X = np.random.randint(-11, 8, size=(n, m, 3))\n",
        "print(stats_channel(X))"
      ]
    },
    {
      "cell_type": "markdown",
      "metadata": {
        "id": "0Pg2nDCxuJ4q"
      },
      "source": [
        "### **Task 7** (1 points) <br/>\n",
        "Create a function which takes a 3D matrix ```X``` as an input and returns all its unique values along the first axis.\n",
        "\n",
        "Sample input:\n",
        "\n",
        "```\n",
        "np.array(\n",
        "  [[[1, 2, 3],\n",
        "    [1, 2, 3],\n",
        "    [1, 2, 3]],\n",
        "\n",
        "   [[4, 5, 6],\n",
        "    [4, 5, 7],\n",
        "    [4, 5, 6]],\n",
        "\n",
        "   [[7, 8, 9],\n",
        "    [7, 8, 9],\n",
        "    [7, 8, 9]]]\n",
        ")\n",
        "```\n",
        "  \n",
        "Sample output:\n",
        "\n",
        "```\n",
        "np.array(\n",
        "  [[[1, 2, 3],\n",
        "    [1, 2, 3]],\n",
        "\n",
        "   [[4, 5, 6],\n",
        "    [4, 5, 7]],\n",
        "\n",
        "   [[7, 8, 9],\n",
        "    [7, 8, 9]]]\n",
        ")\n",
        "```"
      ]
    },
    {
      "cell_type": "code",
      "execution_count": 41,
      "metadata": {
        "id": "YdsrT0G8uJ4q"
      },
      "outputs": [],
      "source": [
        "def get_unique_values(X):\n",
        "\n",
        "    # Find unique values along the first axis (rows)\n",
        "    unique_values = np.unique(X, axis=1)\n",
        "\n",
        "    return unique_values"
      ]
    },
    {
      "cell_type": "code",
      "execution_count": 42,
      "metadata": {
        "id": "UNvyiySzuJ4q"
      },
      "outputs": [
        {
          "name": "stdout",
          "output_type": "stream",
          "text": [
            "Matrix:\n",
            "[[[4 4 5]\n",
            "  [4 5 5]\n",
            "  [4 5 4]]\n",
            "\n",
            " [[4 4 5]\n",
            "  [5 4 4]\n",
            "  [4 4 4]]]\n",
            "Unique :\n"
          ]
        },
        {
          "data": {
            "text/plain": [
              "array([[[4, 4, 5],\n",
              "        [4, 5, 4],\n",
              "        [4, 5, 5]],\n",
              "\n",
              "       [[4, 4, 5],\n",
              "        [4, 4, 4],\n",
              "        [5, 4, 4]]])"
            ]
          },
          "execution_count": 42,
          "metadata": {},
          "output_type": "execute_result"
        }
      ],
      "source": [
        "X =  np.random.randint(4, 6, size=(2, 3, 3))\n",
        "print('Matrix:')\n",
        "print(X)\n",
        "print('Unique :')\n",
        "get_unique_values(X)"
      ]
    },
    {
      "cell_type": "markdown",
      "metadata": {
        "id": "W135mraVuJ4r"
      },
      "source": [
        "# 3. Pandas & Visualization (4 points)\n"
      ]
    },
    {
      "cell_type": "markdown",
      "metadata": {
        "id": "_UfaIXGcuJ4r"
      },
      "source": [
        "You are going to work with *Titanic* dataset which contains information about passengers of Titanic:\n",
        "- **Survived** - 1 - survived, 0 - died (0); **Target variable**\n",
        "- **pclass** - passengers's class;\n",
        "- **sex** - passengers's sex\n",
        "- **Age** - passengers's age in years\n",
        "- **sibsp**    - is the passenger someones siblings   \n",
        "- **parch**    - is the passenger someones child or parent\n",
        "- **ticket** - ticket number    \n",
        "- **fare** - ticket price    \n",
        "- **cabin** - cabin number\n",
        "- **embarked** - port of Embarkation; C = Cherbourg, Q = Queenstown, S = Southampton\n",
        "\n",
        "**Note** for all visualizations use matplotlib or seaborn but NOT plotly! Plotly's graphics sometimes vanish after saving. In this case the task won't be graded.\n",
        "\n",
        "**Note** support all your answers with necessary code, computations, vizualization, and explanation. Answers without code and explanation won't be graded.\n",
        "\n",
        "**Task 0** (0 points) \\\n",
        "Load the dataset and print first 6 rows"
      ]
    },
    {
      "cell_type": "code",
      "execution_count": 43,
      "metadata": {
        "id": "92IDku0HuJ4r"
      },
      "outputs": [
        {
          "data": {
            "text/html": [
              "<div>\n",
              "<style scoped>\n",
              "    .dataframe tbody tr th:only-of-type {\n",
              "        vertical-align: middle;\n",
              "    }\n",
              "\n",
              "    .dataframe tbody tr th {\n",
              "        vertical-align: top;\n",
              "    }\n",
              "\n",
              "    .dataframe thead th {\n",
              "        text-align: right;\n",
              "    }\n",
              "</style>\n",
              "<table border=\"1\" class=\"dataframe\">\n",
              "  <thead>\n",
              "    <tr style=\"text-align: right;\">\n",
              "      <th></th>\n",
              "      <th>PassengerId</th>\n",
              "      <th>Survived</th>\n",
              "      <th>Pclass</th>\n",
              "      <th>Name</th>\n",
              "      <th>Sex</th>\n",
              "      <th>Age</th>\n",
              "      <th>SibSp</th>\n",
              "      <th>Parch</th>\n",
              "      <th>Ticket</th>\n",
              "      <th>Fare</th>\n",
              "      <th>Cabin</th>\n",
              "      <th>Embarked</th>\n",
              "    </tr>\n",
              "  </thead>\n",
              "  <tbody>\n",
              "    <tr>\n",
              "      <th>0</th>\n",
              "      <td>1</td>\n",
              "      <td>0</td>\n",
              "      <td>3</td>\n",
              "      <td>Braund, Mr. Owen Harris</td>\n",
              "      <td>male</td>\n",
              "      <td>22.0</td>\n",
              "      <td>1</td>\n",
              "      <td>0</td>\n",
              "      <td>A/5 21171</td>\n",
              "      <td>7.2500</td>\n",
              "      <td>NaN</td>\n",
              "      <td>S</td>\n",
              "    </tr>\n",
              "    <tr>\n",
              "      <th>1</th>\n",
              "      <td>2</td>\n",
              "      <td>1</td>\n",
              "      <td>1</td>\n",
              "      <td>Cumings, Mrs. John Bradley (Florence Briggs Th...</td>\n",
              "      <td>female</td>\n",
              "      <td>38.0</td>\n",
              "      <td>1</td>\n",
              "      <td>0</td>\n",
              "      <td>PC 17599</td>\n",
              "      <td>71.2833</td>\n",
              "      <td>C85</td>\n",
              "      <td>C</td>\n",
              "    </tr>\n",
              "    <tr>\n",
              "      <th>2</th>\n",
              "      <td>3</td>\n",
              "      <td>1</td>\n",
              "      <td>3</td>\n",
              "      <td>Heikkinen, Miss. Laina</td>\n",
              "      <td>female</td>\n",
              "      <td>26.0</td>\n",
              "      <td>0</td>\n",
              "      <td>0</td>\n",
              "      <td>STON/O2. 3101282</td>\n",
              "      <td>7.9250</td>\n",
              "      <td>NaN</td>\n",
              "      <td>S</td>\n",
              "    </tr>\n",
              "    <tr>\n",
              "      <th>3</th>\n",
              "      <td>4</td>\n",
              "      <td>1</td>\n",
              "      <td>1</td>\n",
              "      <td>Futrelle, Mrs. Jacques Heath (Lily May Peel)</td>\n",
              "      <td>female</td>\n",
              "      <td>35.0</td>\n",
              "      <td>1</td>\n",
              "      <td>0</td>\n",
              "      <td>113803</td>\n",
              "      <td>53.1000</td>\n",
              "      <td>C123</td>\n",
              "      <td>S</td>\n",
              "    </tr>\n",
              "    <tr>\n",
              "      <th>4</th>\n",
              "      <td>5</td>\n",
              "      <td>0</td>\n",
              "      <td>3</td>\n",
              "      <td>Allen, Mr. William Henry</td>\n",
              "      <td>male</td>\n",
              "      <td>35.0</td>\n",
              "      <td>0</td>\n",
              "      <td>0</td>\n",
              "      <td>373450</td>\n",
              "      <td>8.0500</td>\n",
              "      <td>NaN</td>\n",
              "      <td>S</td>\n",
              "    </tr>\n",
              "    <tr>\n",
              "      <th>5</th>\n",
              "      <td>6</td>\n",
              "      <td>0</td>\n",
              "      <td>3</td>\n",
              "      <td>Moran, Mr. James</td>\n",
              "      <td>male</td>\n",
              "      <td>NaN</td>\n",
              "      <td>0</td>\n",
              "      <td>0</td>\n",
              "      <td>330877</td>\n",
              "      <td>8.4583</td>\n",
              "      <td>NaN</td>\n",
              "      <td>Q</td>\n",
              "    </tr>\n",
              "  </tbody>\n",
              "</table>\n",
              "</div>"
            ],
            "text/plain": [
              "   PassengerId  Survived  Pclass  \\\n",
              "0            1         0       3   \n",
              "1            2         1       1   \n",
              "2            3         1       3   \n",
              "3            4         1       1   \n",
              "4            5         0       3   \n",
              "5            6         0       3   \n",
              "\n",
              "                                                Name     Sex   Age  SibSp  \\\n",
              "0                            Braund, Mr. Owen Harris    male  22.0      1   \n",
              "1  Cumings, Mrs. John Bradley (Florence Briggs Th...  female  38.0      1   \n",
              "2                             Heikkinen, Miss. Laina  female  26.0      0   \n",
              "3       Futrelle, Mrs. Jacques Heath (Lily May Peel)  female  35.0      1   \n",
              "4                           Allen, Mr. William Henry    male  35.0      0   \n",
              "5                                   Moran, Mr. James    male   NaN      0   \n",
              "\n",
              "   Parch            Ticket     Fare Cabin Embarked  \n",
              "0      0         A/5 21171   7.2500   NaN        S  \n",
              "1      0          PC 17599  71.2833   C85        C  \n",
              "2      0  STON/O2. 3101282   7.9250   NaN        S  \n",
              "3      0            113803  53.1000  C123        S  \n",
              "4      0            373450   8.0500   NaN        S  \n",
              "5      0            330877   8.4583   NaN        Q  "
            ]
          },
          "execution_count": 43,
          "metadata": {},
          "output_type": "execute_result"
        }
      ],
      "source": [
        "dataset =  pd.read_csv('titanic.csv')\n",
        "\n",
        "dataset.head(6)"
      ]
    },
    {
      "cell_type": "markdown",
      "metadata": {
        "id": "0FeAHgZtuJ4r"
      },
      "source": [
        "**Task 1** (1 points) <br/>\n",
        "Answer the following questions:\n",
        "    \n",
        "    * Are there any missing values? In what columns?\n",
        "    * What is the percentage of survived passengers? Are the classes balanced?\n",
        "    * Were there more males or females?\n",
        "    * What what the least popular port of embarkation?\n",
        "    * How many passenger classes (pclass) were there on Tinanic?\n",
        "    * What is the overall average ticket fare? And for every passenger class?\n",
        "Please, write not only the answers but the code, proving it."
      ]
    },
    {
      "cell_type": "code",
      "execution_count": 44,
      "metadata": {
        "id": "4PizO86UuJ4r"
      },
      "outputs": [
        {
          "name": "stdout",
          "output_type": "stream",
          "text": [
            "PassengerId    False\n",
            "Survived       False\n",
            "Pclass         False\n",
            "Name           False\n",
            "Sex            False\n",
            "Age             True\n",
            "SibSp          False\n",
            "Parch          False\n",
            "Ticket         False\n",
            "Fare           False\n",
            "Cabin           True\n",
            "Embarked        True\n",
            "dtype: bool\n",
            "\n",
            "0.3838383838383838\n",
            "\n",
            "Sex\n",
            "male      577\n",
            "female    314\n",
            "Name: count, dtype: int64\n",
            "\n",
            "77\n",
            "3\n",
            "32.204207968574636\n",
            "Pclass\n",
            "1    84.154687\n",
            "2    20.662183\n",
            "3    13.675550\n",
            "Name: Fare, dtype: float64\n"
          ]
        }
      ],
      "source": [
        "print(pd.isnull(dataset).any()) # 1\n",
        "\n",
        "print()\n",
        "\n",
        "print(dataset['Survived'].mean()) # 2\n",
        "\n",
        "print()\n",
        "\n",
        "print(dataset['Sex'].value_counts()) # 3\n",
        "\n",
        "print()\n",
        "\n",
        "print(dataset['Embarked'].value_counts(ascending=True).iloc[0]) # 4\n",
        "\n",
        "print(dataset['Pclass'].value_counts().count()) # 5\n",
        "\n",
        "print(dataset['Fare'].mean()) # 6 average for all passengers\n",
        "\n",
        "print(dataset.groupby(['Pclass'])['Fare'].mean()) # average grouped by pclass\n"
      ]
    },
    {
      "cell_type": "markdown",
      "metadata": {},
      "source": [
        "1: Age, Cabin, Embarked\n",
        "\n",
        "2: 0.38\n",
        "\n",
        "3: Male\n",
        "\n",
        "4: 77 \n",
        "\n",
        "5: 3\n",
        "\n",
        "6: 32 among all data\n",
        "84 for 1 class, 20 for 2 and 13 for the last class"
      ]
    },
    {
      "cell_type": "markdown",
      "metadata": {
        "id": "s9bfz5KbuJ4r"
      },
      "source": [
        "**Task 2** (0.5 points) <br/>\n",
        "Visualize age distribution (you may use a histogram, for example).\n",
        "\n",
        "    * What is the minimal and maximum ages of the passengers? Visualize it on the plot\n",
        "    * What is the median age? And among males and females separately? Visualize it on the separate plot\n",
        "    * Make conclusions about what you see on the plots"
      ]
    },
    {
      "cell_type": "code",
      "execution_count": 45,
      "metadata": {
        "id": "q19UF2SHuJ41"
      },
      "outputs": [
        {
          "name": "stderr",
          "output_type": "stream",
          "text": [
            "C:\\Users\\aslan\\AppData\\Local\\Packages\\PythonSoftwareFoundation.Python.3.11_qbz5n2kfra8p0\\LocalCache\\local-packages\\Python311\\site-packages\\seaborn\\_oldcore.py:1498: FutureWarning: is_categorical_dtype is deprecated and will be removed in a future version. Use isinstance(dtype, CategoricalDtype) instead\n",
            "  if pd.api.types.is_categorical_dtype(vector):\n",
            "C:\\Users\\aslan\\AppData\\Local\\Packages\\PythonSoftwareFoundation.Python.3.11_qbz5n2kfra8p0\\LocalCache\\local-packages\\Python311\\site-packages\\seaborn\\_oldcore.py:1498: FutureWarning: is_categorical_dtype is deprecated and will be removed in a future version. Use isinstance(dtype, CategoricalDtype) instead\n",
            "  if pd.api.types.is_categorical_dtype(vector):\n",
            "C:\\Users\\aslan\\AppData\\Local\\Packages\\PythonSoftwareFoundation.Python.3.11_qbz5n2kfra8p0\\LocalCache\\local-packages\\Python311\\site-packages\\seaborn\\_oldcore.py:1498: FutureWarning: is_categorical_dtype is deprecated and will be removed in a future version. Use isinstance(dtype, CategoricalDtype) instead\n",
            "  if pd.api.types.is_categorical_dtype(vector):\n",
            "C:\\Users\\aslan\\AppData\\Local\\Packages\\PythonSoftwareFoundation.Python.3.11_qbz5n2kfra8p0\\LocalCache\\local-packages\\Python311\\site-packages\\seaborn\\_oldcore.py:1498: FutureWarning: is_categorical_dtype is deprecated and will be removed in a future version. Use isinstance(dtype, CategoricalDtype) instead\n",
            "  if pd.api.types.is_categorical_dtype(vector):\n"
          ]
        },
        {
          "data": {
            "text/plain": [
              "<Axes: xlabel='Sex', ylabel='Age'>"
            ]
          },
          "execution_count": 45,
          "metadata": {},
          "output_type": "execute_result"
        },
        {
          "data": {
            "image/png": "[encoded data removed]",
            "text/plain": [
              "<Figure size 1000x500 with 1 Axes>"
            ]
          },
          "metadata": {},
          "output_type": "display_data"
        },
        {
          "data": {
            "image/png": "[encoded data removed]",
            "text/plain": [
              "<Figure size 1000x500 with 1 Axes>"
            ]
          },
          "metadata": {},
          "output_type": "display_data"
        }
      ],
      "source": [
        "plt.figure(figsize=(10,5))\n",
        "sns.boxplot(x = dataset['Age'])\n",
        "\n",
        "plt.figure(figsize = (10,5)) # Median age is the line in the middle of the box\n",
        "sns.boxplot(x = dataset['Sex'],y = dataset['Age'])"
      ]
    },
    {
      "cell_type": "markdown",
      "metadata": {},
      "source": [
        "1: min age is around 2 years and max is around 80 years\n",
        "\n",
        "Median age is the line in the middle of the box\n",
        "\n",
        "2: among male median age is 29, among females is 27 "
      ]
    },
    {
      "cell_type": "markdown",
      "metadata": {
        "id": "ye6WohwXuJ41"
      },
      "source": [
        "**Task 3** (1 points) <br/>\n",
        "Find all the titles of the passengers (example, *Capt., Mr.,Mme.*), which are written in the column Name, and answer the following questions:\n",
        "\n",
        "    * How many are there unique titles?\n",
        "    * How many are there passengers with every title?\n",
        "    * What is the most popular man's title? And woman's title?\n",
        "    \n",
        "**Hint** You may select the title from the name as a word which contains a dot and is not middle name."
      ]
    },
    {
      "cell_type": "code",
      "execution_count": 54,
      "metadata": {
        "id": "LDBIRnGXuJ41"
      },
      "outputs": [
        {
          "data": {
            "text/plain": [
              "17"
            ]
          },
          "execution_count": 54,
          "metadata": {},
          "output_type": "execute_result"
        }
      ],
      "source": [
        "# 1\n",
        "\n",
        "dataset[\"Name\"].str.extract(r' ([A-Za-z]+)\\.').value_counts().count() \n"
      ]
    },
    {
      "cell_type": "code",
      "execution_count": 55,
      "metadata": {},
      "outputs": [
        {
          "data": {
            "text/plain": [
              "Mr          517\n",
              "Miss        182\n",
              "Mrs         125\n",
              "Master       40\n",
              "Dr            7\n",
              "Rev           6\n",
              "Major         2\n",
              "Col           2\n",
              "Mlle          2\n",
              "Mme           1\n",
              "Ms            1\n",
              "Capt          1\n",
              "Lady          1\n",
              "Jonkheer      1\n",
              "Don           1\n",
              "Countess      1\n",
              "Sir           1\n",
              "Name: count, dtype: int64"
            ]
          },
          "execution_count": 55,
          "metadata": {},
          "output_type": "execute_result"
        }
      ],
      "source": [
        "# 2\n",
        "\n",
        "dataset[\"Name\"].str.extract(r' ([A-Za-z]+)\\.').value_counts() "
      ]
    },
    {
      "cell_type": "code",
      "execution_count": 74,
      "metadata": {},
      "outputs": [
        {
          "data": {
            "text/plain": [
              "Sex     Title   \n",
              "female  Miss        182\n",
              "        Mrs         125\n",
              "        Mlle          2\n",
              "        Countess      1\n",
              "        Dr            1\n",
              "        Ms            1\n",
              "        Mme           1\n",
              "        Lady          1\n",
              "male    Mr          517\n",
              "        Master       40\n",
              "        Dr            6\n",
              "        Rev           6\n",
              "        Col           2\n",
              "        Major         2\n",
              "        Jonkheer      1\n",
              "        Don           1\n",
              "        Capt          1\n",
              "        Sir           1\n",
              "Name: count, dtype: int64"
            ]
          },
          "execution_count": 74,
          "metadata": {},
          "output_type": "execute_result"
        }
      ],
      "source": [
        "dataset['Title'] = dataset[\"Name\"].str.extract(r' ([A-Za-z]+)\\.')\n",
        "dataset.groupby(['Sex'])['Title'].value_counts()\n",
        "\n",
        "# 3\n",
        "# The most popular male title is Mr and the most popular female is Miss "
      ]
    },
    {
      "cell_type": "markdown",
      "metadata": {
        "id": "n0RsqbTPuJ41"
      },
      "source": [
        "**Task 4** (0.5 points) <br/>\n",
        "Is there correlation between *pclass* and *ticket price*? Calculate mean price for each class and visualize price distribution for each class as well. Make conclusions about what you see on the plot\n",
        "\n",
        "Hint: you could make one or several plot types i.e.  box, violine, pair, histogram (see additional notebooks for Seminar 1 \"Visualization with Seaborn\"). Main point here is to **choose** plots wisely and **make meaningful conclusions**\n",
        "\n"
      ]
    },
    {
      "cell_type": "code",
      "execution_count": 46,
      "metadata": {
        "id": "fkvVvnHPuJ41"
      },
      "outputs": [
        {
          "name": "stdout",
          "output_type": "stream",
          "text": [
            "Pclass\n",
            "1    84.154687\n",
            "2    20.662183\n",
            "3    13.675550\n",
            "Name: Fare, dtype: float64\n"
          ]
        },
        {
          "name": "stderr",
          "output_type": "stream",
          "text": [
            "C:\\Users\\aslan\\AppData\\Local\\Packages\\PythonSoftwareFoundation.Python.3.11_qbz5n2kfra8p0\\LocalCache\\local-packages\\Python311\\site-packages\\seaborn\\_oldcore.py:1498: FutureWarning: is_categorical_dtype is deprecated and will be removed in a future version. Use isinstance(dtype, CategoricalDtype) instead\n",
            "  if pd.api.types.is_categorical_dtype(vector):\n",
            "C:\\Users\\aslan\\AppData\\Local\\Packages\\PythonSoftwareFoundation.Python.3.11_qbz5n2kfra8p0\\LocalCache\\local-packages\\Python311\\site-packages\\seaborn\\_oldcore.py:1498: FutureWarning: is_categorical_dtype is deprecated and will be removed in a future version. Use isinstance(dtype, CategoricalDtype) instead\n",
            "  if pd.api.types.is_categorical_dtype(vector):\n",
            "C:\\Users\\aslan\\AppData\\Local\\Packages\\PythonSoftwareFoundation.Python.3.11_qbz5n2kfra8p0\\LocalCache\\local-packages\\Python311\\site-packages\\seaborn\\_oldcore.py:1119: FutureWarning: use_inf_as_na option is deprecated and will be removed in a future version. Convert inf values to NaN before operating instead.\n",
            "  with pd.option_context('mode.use_inf_as_na', True):\n"
          ]
        },
        {
          "data": {
            "text/plain": [
              "<seaborn.axisgrid.FacetGrid at 0x22966be7990>"
            ]
          },
          "execution_count": 46,
          "metadata": {},
          "output_type": "execute_result"
        },
        {
          "data": {
            "image/png": "[encoded data removed]",
            "text/plain": [
              "<Figure size 558.875x500 with 1 Axes>"
            ]
          },
          "metadata": {},
          "output_type": "display_data"
        }
      ],
      "source": [
        "print(dataset.groupby(['Pclass'])['Fare'].mean())\n",
        "\n",
        "sns.displot(dataset, x = \"Fare\", hue = \"Pclass\")"
      ]
    },
    {
      "cell_type": "markdown",
      "metadata": {},
      "source": [
        "We can see that the third class has the cheapest tickets, and the most expensive ones are in the first class "
      ]
    },
    {
      "cell_type": "markdown",
      "metadata": {
        "id": "UcptRilCuJ41"
      },
      "source": [
        "**Task 5** (0.5 points) <br/>\n",
        "The same question as in task 4 about correlation between *embarked* and *ticket priсe*."
      ]
    },
    {
      "cell_type": "code",
      "execution_count": 47,
      "metadata": {
        "id": "biR9anS5uJ41"
      },
      "outputs": [
        {
          "name": "stdout",
          "output_type": "stream",
          "text": [
            "Embarked\n",
            "C    59.954144\n",
            "Q    13.276030\n",
            "S    27.079812\n",
            "Name: Fare, dtype: float64\n"
          ]
        },
        {
          "name": "stderr",
          "output_type": "stream",
          "text": [
            "C:\\Users\\aslan\\AppData\\Local\\Packages\\PythonSoftwareFoundation.Python.3.11_qbz5n2kfra8p0\\LocalCache\\local-packages\\Python311\\site-packages\\seaborn\\_oldcore.py:1498: FutureWarning: is_categorical_dtype is deprecated and will be removed in a future version. Use isinstance(dtype, CategoricalDtype) instead\n",
            "  if pd.api.types.is_categorical_dtype(vector):\n",
            "C:\\Users\\aslan\\AppData\\Local\\Packages\\PythonSoftwareFoundation.Python.3.11_qbz5n2kfra8p0\\LocalCache\\local-packages\\Python311\\site-packages\\seaborn\\_oldcore.py:1498: FutureWarning: is_categorical_dtype is deprecated and will be removed in a future version. Use isinstance(dtype, CategoricalDtype) instead\n",
            "  if pd.api.types.is_categorical_dtype(vector):\n",
            "C:\\Users\\aslan\\AppData\\Local\\Packages\\PythonSoftwareFoundation.Python.3.11_qbz5n2kfra8p0\\LocalCache\\local-packages\\Python311\\site-packages\\seaborn\\_oldcore.py:1498: FutureWarning: is_categorical_dtype is deprecated and will be removed in a future version. Use isinstance(dtype, CategoricalDtype) instead\n",
            "  if pd.api.types.is_categorical_dtype(vector):\n",
            "C:\\Users\\aslan\\AppData\\Local\\Packages\\PythonSoftwareFoundation.Python.3.11_qbz5n2kfra8p0\\LocalCache\\local-packages\\Python311\\site-packages\\seaborn\\_oldcore.py:1498: FutureWarning: is_categorical_dtype is deprecated and will be removed in a future version. Use isinstance(dtype, CategoricalDtype) instead\n",
            "  if pd.api.types.is_categorical_dtype(vector):\n",
            "C:\\Users\\aslan\\AppData\\Local\\Packages\\PythonSoftwareFoundation.Python.3.11_qbz5n2kfra8p0\\LocalCache\\local-packages\\Python311\\site-packages\\seaborn\\_oldcore.py:1119: FutureWarning: use_inf_as_na option is deprecated and will be removed in a future version. Convert inf values to NaN before operating instead.\n",
            "  with pd.option_context('mode.use_inf_as_na', True):\n"
          ]
        },
        {
          "data": {
            "text/plain": [
              "<seaborn.axisgrid.FacetGrid at 0x22968e62710>"
            ]
          },
          "execution_count": 47,
          "metadata": {},
          "output_type": "execute_result"
        },
        {
          "data": {
            "image/png": "[encoded data removed]",
            "text/plain": [
              "<Figure size 581.611x500 with 1 Axes>"
            ]
          },
          "metadata": {},
          "output_type": "display_data"
        }
      ],
      "source": [
        "print(dataset.groupby(['Embarked'])['Fare'].mean())\n",
        "\n",
        "\n",
        "sns.displot(dataset, x = 'Fare',hue = 'Embarked')"
      ]
    },
    {
      "cell_type": "markdown",
      "metadata": {},
      "source": [
        "Considering results above we can make conclusion that these features also correlate. The most expensive ticketes distributed between classes C and S"
      ]
    },
    {
      "cell_type": "markdown",
      "metadata": {
        "id": "eeKKfMOguJ41"
      },
      "source": [
        "**Task 6** (0.5 points) <br/>\n",
        "Visualize age distribution for survived and not survived passengers separately and calculate the mean age for each class. Are they different? Provide the same visualization for males and females separately. Make conclusions about what you see on the plots"
      ]
    },
    {
      "cell_type": "code",
      "execution_count": 48,
      "metadata": {
        "id": "udmgFlQTuJ42"
      },
      "outputs": [
        {
          "name": "stdout",
          "output_type": "stream",
          "text": [
            "Survived\n",
            "0    30.626179\n",
            "1    28.343690\n",
            "Name: Age, dtype: float64\n"
          ]
        },
        {
          "name": "stderr",
          "output_type": "stream",
          "text": [
            "C:\\Users\\aslan\\AppData\\Local\\Packages\\PythonSoftwareFoundation.Python.3.11_qbz5n2kfra8p0\\LocalCache\\local-packages\\Python311\\site-packages\\seaborn\\_oldcore.py:1498: FutureWarning: is_categorical_dtype is deprecated and will be removed in a future version. Use isinstance(dtype, CategoricalDtype) instead\n",
            "  if pd.api.types.is_categorical_dtype(vector):\n",
            "C:\\Users\\aslan\\AppData\\Local\\Packages\\PythonSoftwareFoundation.Python.3.11_qbz5n2kfra8p0\\LocalCache\\local-packages\\Python311\\site-packages\\seaborn\\_oldcore.py:1498: FutureWarning: is_categorical_dtype is deprecated and will be removed in a future version. Use isinstance(dtype, CategoricalDtype) instead\n",
            "  if pd.api.types.is_categorical_dtype(vector):\n",
            "C:\\Users\\aslan\\AppData\\Local\\Packages\\PythonSoftwareFoundation.Python.3.11_qbz5n2kfra8p0\\LocalCache\\local-packages\\Python311\\site-packages\\seaborn\\_oldcore.py:1498: FutureWarning: is_categorical_dtype is deprecated and will be removed in a future version. Use isinstance(dtype, CategoricalDtype) instead\n",
            "  if pd.api.types.is_categorical_dtype(vector):\n",
            "C:\\Users\\aslan\\AppData\\Local\\Packages\\PythonSoftwareFoundation.Python.3.11_qbz5n2kfra8p0\\LocalCache\\local-packages\\Python311\\site-packages\\seaborn\\_oldcore.py:1498: FutureWarning: is_categorical_dtype is deprecated and will be removed in a future version. Use isinstance(dtype, CategoricalDtype) instead\n",
            "  if pd.api.types.is_categorical_dtype(vector):\n",
            "C:\\Users\\aslan\\AppData\\Local\\Packages\\PythonSoftwareFoundation.Python.3.11_qbz5n2kfra8p0\\LocalCache\\local-packages\\Python311\\site-packages\\seaborn\\_oldcore.py:1498: FutureWarning: is_categorical_dtype is deprecated and will be removed in a future version. Use isinstance(dtype, CategoricalDtype) instead\n",
            "  if pd.api.types.is_categorical_dtype(vector):\n",
            "C:\\Users\\aslan\\AppData\\Local\\Packages\\PythonSoftwareFoundation.Python.3.11_qbz5n2kfra8p0\\LocalCache\\local-packages\\Python311\\site-packages\\seaborn\\_oldcore.py:1498: FutureWarning: is_categorical_dtype is deprecated and will be removed in a future version. Use isinstance(dtype, CategoricalDtype) instead\n",
            "  if pd.api.types.is_categorical_dtype(vector):\n",
            "C:\\Users\\aslan\\AppData\\Local\\Packages\\PythonSoftwareFoundation.Python.3.11_qbz5n2kfra8p0\\LocalCache\\local-packages\\Python311\\site-packages\\seaborn\\_oldcore.py:1498: FutureWarning: is_categorical_dtype is deprecated and will be removed in a future version. Use isinstance(dtype, CategoricalDtype) instead\n",
            "  if pd.api.types.is_categorical_dtype(vector):\n"
          ]
        },
        {
          "data": {
            "text/plain": [
              "<Axes: xlabel='Survived', ylabel='Age'>"
            ]
          },
          "execution_count": 48,
          "metadata": {},
          "output_type": "execute_result"
        },
        {
          "data": {
            "image/png": "[encoded data removed]",
            "text/plain": [
              "<Figure size 640x480 with 1 Axes>"
            ]
          },
          "metadata": {},
          "output_type": "display_data"
        },
        {
          "data": {
            "image/png": "[encoded data removed]",
            "text/plain": [
              "<Figure size 640x480 with 1 Axes>"
            ]
          },
          "metadata": {},
          "output_type": "display_data"
        }
      ],
      "source": [
        "print(dataset.groupby(['Survived'])['Age'].mean())\n",
        "\n",
        "plt.figure()\n",
        "sns.boxplot(dataset, x = 'Survived',y = 'Age')\n",
        "\n",
        "plt.figure()\n",
        "sns.boxplot(dataset, x = 'Survived',y = 'Age',hue = 'Sex')"
      ]
    },
    {
      "cell_type": "markdown",
      "metadata": {},
      "source": [
        "Average age of survived people less than who couldnt survive"
      ]
    }
  ],
  "metadata": {
    "colab": {
      "provenance": []
    },
    "kernelspec": {
      "display_name": "Python 3 (ipykernel)",
      "language": "python",
      "name": "python3"
    },
    "language_info": {
      "codemirror_mode": {
        "name": "ipython",
        "version": 3
      },
      "file_extension": ".py",
      "mimetype": "text/x-python",
      "name": "python",
      "nbconvert_exporter": "python",
      "pygments_lexer": "ipython3",
      "version": "3.11.6"
    }
  },
  "nbformat": 4,
  "nbformat_minor": 0
}
